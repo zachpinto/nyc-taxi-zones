{
 "cells": [
  {
   "cell_type": "code",
   "execution_count": 6,
   "id": "1caf5704b3e00e8a",
   "metadata": {
    "collapsed": false,
    "ExecuteTime": {
     "end_time": "2024-02-04T21:30:41.684944Z",
     "start_time": "2024-02-04T21:30:41.655006Z"
    }
   },
   "outputs": [],
   "source": [
    "import folium\n",
    "import pandas as pd\n",
    "import random\n",
    "import os\n",
    "\n",
    "# Load your weekly data and geojson data\n",
    "weekly_data = pd.read_csv('/Users/pintoza/Desktop/dev/data-science/taxi-demand-forecast/data/processed/weekly_zone_aggregates.csv')\n",
    "geojson_data = '/Users/pintoza/Desktop/dev/data-science/taxi-demand-forecast/data/external/NYC_Taxi_Zones.geojson'"
   ]
  },
  {
   "cell_type": "code",
   "execution_count": 7,
   "id": "a8c4af2a0bb045b7",
   "metadata": {
    "collapsed": false,
    "ExecuteTime": {
     "end_time": "2024-02-04T21:30:48.405918Z",
     "start_time": "2024-02-04T21:30:48.397261Z"
    }
   },
   "outputs": [
    {
     "data": {
      "text/plain": "   year  week  PULocationID  total_passengers  total_distance  total_amount\n0  2019    49             1               321          441.77      22832.13\n1  2019    49             2                 2           20.70         78.60\n2  2019    49             3                28          363.54       1663.64\n3  2019    49             4              4372         7507.69      51820.32\n4  2019    49             5                 8          170.67        516.90",
      "text/html": "<div>\n<style scoped>\n    .dataframe tbody tr th:only-of-type {\n        vertical-align: middle;\n    }\n\n    .dataframe tbody tr th {\n        vertical-align: top;\n    }\n\n    .dataframe thead th {\n        text-align: right;\n    }\n</style>\n<table border=\"1\" class=\"dataframe\">\n  <thead>\n    <tr style=\"text-align: right;\">\n      <th></th>\n      <th>year</th>\n      <th>week</th>\n      <th>PULocationID</th>\n      <th>total_passengers</th>\n      <th>total_distance</th>\n      <th>total_amount</th>\n    </tr>\n  </thead>\n  <tbody>\n    <tr>\n      <th>0</th>\n      <td>2019</td>\n      <td>49</td>\n      <td>1</td>\n      <td>321</td>\n      <td>441.77</td>\n      <td>22832.13</td>\n    </tr>\n    <tr>\n      <th>1</th>\n      <td>2019</td>\n      <td>49</td>\n      <td>2</td>\n      <td>2</td>\n      <td>20.70</td>\n      <td>78.60</td>\n    </tr>\n    <tr>\n      <th>2</th>\n      <td>2019</td>\n      <td>49</td>\n      <td>3</td>\n      <td>28</td>\n      <td>363.54</td>\n      <td>1663.64</td>\n    </tr>\n    <tr>\n      <th>3</th>\n      <td>2019</td>\n      <td>49</td>\n      <td>4</td>\n      <td>4372</td>\n      <td>7507.69</td>\n      <td>51820.32</td>\n    </tr>\n    <tr>\n      <th>4</th>\n      <td>2019</td>\n      <td>49</td>\n      <td>5</td>\n      <td>8</td>\n      <td>170.67</td>\n      <td>516.90</td>\n    </tr>\n  </tbody>\n</table>\n</div>"
     },
     "execution_count": 7,
     "metadata": {},
     "output_type": "execute_result"
    }
   ],
   "source": [
    "weekly_data.head()"
   ]
  },
  {
   "cell_type": "code",
   "outputs": [
    {
     "data": {
      "text/plain": "count     69430.000000\nmean       6354.832911\nstd       18821.772665\nmin           0.000000\n25%          13.000000\n50%          59.000000\n75%        1030.000000\nmax      288436.000000\nName: total_passengers, dtype: float64"
     },
     "execution_count": 11,
     "metadata": {},
     "output_type": "execute_result"
    }
   ],
   "source": [
    "# Find distribution of total_passengers\n",
    "weekly_data['total_passengers'].describe()"
   ],
   "metadata": {
    "collapsed": false,
    "ExecuteTime": {
     "end_time": "2024-02-04T21:31:34.204885Z",
     "start_time": "2024-02-04T21:31:34.198447Z"
    }
   },
   "id": "9f70ba89a9d87a11",
   "execution_count": 11
  },
  {
   "cell_type": "code",
   "outputs": [],
   "source": [
    "def get_color(passenger_count):\n",
    "    if passenger_count > 10000:\n",
    "        return '#da9700' \n",
    "    elif passenger_count > 1000:\n",
    "        return '#f7b731'  \n",
    "    elif passenger_count > 100:\n",
    "        return '#ffef37'  \n",
    "    elif passenger_count > 50:\n",
    "        return '#ffee86'  \n",
    "    else:\n",
    "        return '#FFF3D1FF' "
   ],
   "metadata": {
    "collapsed": false,
    "ExecuteTime": {
     "end_time": "2024-02-04T21:49:10.835911Z",
     "start_time": "2024-02-04T21:49:10.831241Z"
    }
   },
   "id": "7baa3aa42a25f590",
   "execution_count": 16
  }
 ],
 "metadata": {
  "kernelspec": {
   "display_name": "Python 3 (ipykernel)",
   "language": "python",
   "name": "python3"
  },
  "language_info": {
   "codemirror_mode": {
    "name": "ipython",
    "version": 3
   },
   "file_extension": ".py",
   "mimetype": "text/x-python",
   "name": "python",
   "nbconvert_exporter": "python",
   "pygments_lexer": "ipython3",
   "version": "3.11.7"
  }
 },
 "nbformat": 4,
 "nbformat_minor": 5
}
